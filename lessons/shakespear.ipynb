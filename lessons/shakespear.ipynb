{
 "cells": [
  {
   "cell_type": "markdown",
   "metadata": {},
   "source": [
    "# Quantifying Shakespeare\n",
    "\n",
    "Downloading the plain text corpus of Shakespeare's works: <https://bit.ly/shakespeare-txt>\n",
    "\n",
    "## Plan of Action\n",
    "\n",
    "1. Read every line of text into  a list of strings\n",
    "2. Count the frequencies of each letter\n",
    "3. Visualize the frequencies"
   ]
  },
  {
   "cell_type": "code",
   "execution_count": null,
   "metadata": {},
   "outputs": [
    {
     "ename": "",
     "evalue": "",
     "output_type": "error",
     "traceback": [
      "\u001b[1;31mFailed to start the Kernel. \n",
      "\u001b[1;31mC:\\Users\\Karson Van Scoyoc\\AppData\\Local\\Packages\\PythonSoftwareFoundation.Python.3.10_qbz5n2kfra8p0\\LocalCache\\local-packages\\Python310\\site-packages\\traitlets\\traitlets.py:2392: FutureWarning: Supporting extra quotes around strings is deprecated in traitlets 5.0. You can use 'hmac-sha256' instead of '\"hmac-sha256\"' if you require traitlets >=5.\n",
      "\u001b[1;31m  warn(\n",
      "\u001b[1;31mC:\\Users\\Karson Van Scoyoc\\AppData\\Local\\Packages\\PythonSoftwareFoundation.Python.3.10_qbz5n2kfra8p0\\LocalCache\\local-packages\\Python310\\site-packages\\traitlets\\traitlets.py:2346: FutureWarning: Supporting extra quotes around Bytes is deprecated in traitlets 5.0. Use 'd859a873-de54-4972-a1a7-912c24e4ac27' instead of 'b\"d859a873-de54-4972-a1a7-912c24e4ac27\"'.\n",
      "\u001b[1;31m  warn(\n",
      "\u001b[1;31mC:\\Users\\Karson Van Scoyoc\\AppData\\Local\\Packages\\PythonSoftwareFoundation.Python.3.10_qbz5n2kfra8p0\\LocalCache\\local-packages\\Python310\\site-packages\\traitlets\\traitlets.py:2392: FutureWarning: Supporting extra quotes around strings is deprecated in traitlets 5.0. You can use 'c:\\\\Users\\\\Karson Van Scoyoc\\\\AppData\\\\Roaming\\\\jupyter\\\\runtime\\\\kernel-v2-9028n3IRrXLbiWww.json' instead of '\"c:\\\\Users\\\\Karson Van Scoyoc\\\\AppData\\\\Roaming\\\\jupyter\\\\runtime\\\\kernel-v2-9028n3IRrXLbiWww.json\"' if you require traitlets >=5.\n",
      "\u001b[1;31m  warn(\n",
      "\u001b[1;31mBad file descriptor (C:\\projects\\libzmq\\src\\epoll.cpp:100). \n",
      "\u001b[1;31mView Jupyter <a href='command:jupyter.viewOutput'>log</a> for further details."
     ]
    }
   ],
   "source": [
    "# Read lines from the file\n",
    "\n",
    "from io import TextIOWrapper\n",
    "\n",
    "def read_lines(filename: str) -> list[str]:\n",
    "    \"\"\"Reading every linefrom filename into a list of strs.\"\"\"\n",
    "    lines: list[str] = []\n",
    "    file_handle: TextIOWrapper = open(filename, \"r\")\n",
    "    for line in file_handle:\n",
    "        line = line.lower()\n",
    "        line = line.strip()\n",
    "        lines.append(line)\n",
    "    return lines\n",
    "\n",
    "shakespeare_lines: list[str] = read_lines(\"./shakespeare.txt\")\n",
    "print(len(shakespeare_lines))"
   ]
  },
  {
   "cell_type": "code",
   "execution_count": 6,
   "metadata": {},
   "outputs": [
    {
     "name": "stdout",
     "output_type": "stream",
     "text": [
      "{}\n"
     ]
    }
   ],
   "source": [
    "# Tally up the characters of the works\n",
    "\n",
    "# Goal: Define a function named tally\n",
    "# Give the function 2 params\n",
    "#  1. a dictionary reference of key type str, value type int\n",
    "#  2. a str key\n",
    "# If the key is in the dictionary, increase its count by 1,\n",
    "# Otherwise: set its value to 1.\n",
    "# Return nothing because you've mutated the dictionary\n",
    "\n",
    "def tally(xs: dict[str, int], key: str) -> None:\n",
    "    for i in xs:\n",
    "        if key in xs:\n",
    "            xs[key] += 1\n",
    "        else:\n",
    "            xs[key] = 1\n",
    "\n",
    "\n",
    "def count_letters(lines: list[str]) -> dict[str, int]:\n",
    "    counts: dict[str, int] = {}\n",
    "    # Goal: Loop through every line in lines\n",
    "    #  For each line loop through every character in a line\n",
    "    #   Use your tally function to tally that character up\n",
    "    for line in lines:\n",
    "        for char in line:\n",
    "            if char >= 'a' and char <= 'z':\n",
    "                tally(counts, char)\n",
    "    return counts\n",
    "\n",
    "shakespeare_letters: dict[str, int] = count_letters(shakespeare_lines)\n",
    "print(shakespeare_letters)"
   ]
  },
  {
   "cell_type": "code",
   "execution_count": 7,
   "metadata": {},
   "outputs": [
    {
     "data": {
      "text/plain": [
       "<BarContainer object of 0 artists>"
      ]
     },
     "execution_count": 7,
     "metadata": {},
     "output_type": "execute_result"
    },
    {
     "data": {
      "image/png": "[encoded data removed]",
      "text/plain": [
       "<Figure size 640x480 with 1 Axes>"
      ]
     },
     "metadata": {},
     "output_type": "display_data"
    }
   ],
   "source": [
    "from matplotlib import pyplot\n",
    "pyplot.title(\"Frequencies of Letters\")\n",
    "pyplot.xlabel(\":etters\")\n",
    "pyplot.ylabel(\"Frequencies\")\n",
    "labels: list[str] = list(shakespeare_letters.keys())\n",
    "values: list[int] = list(shakespeare_letters.values())\n",
    "pyplot.bar(labels, values)"
   ]
  }
 ],
 "metadata": {
  "kernelspec": {
   "display_name": "Python 3.10.7 64-bit (microsoft store)",
   "language": "python",
   "name": "python3"
  },
  "language_info": {
   "codemirror_mode": {
    "name": "ipython",
    "version": 3
   },
   "file_extension": ".py",
   "mimetype": "text/x-python",
   "name": "python",
   "nbconvert_exporter": "python",
   "pygments_lexer": "ipython3",
   "version": "3.10.8"
  },
  "orig_nbformat": 4,
  "vscode": {
   "interpreter": {
    "hash": "e5507588024d6d0ebb1ced4b60eca96b052edb02b265ead548564ae92e0bb235"
   }
  }
 },
 "nbformat": 4,
 "nbformat_minor": 2
}
